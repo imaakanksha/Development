{
 "cells": [
  {
   "cell_type": "code",
   "execution_count": 2,
   "metadata": {},
   "outputs": [
    {
     "name": "stdout",
     "output_type": "stream",
     "text": [
      "Hello World\n"
     ]
    }
   ],
   "source": [
    "print(\"Hello World\");"
   ]
  },
  {
   "cell_type": "code",
   "execution_count": 9,
   "metadata": {},
   "outputs": [
    {
     "name": "stdout",
     "output_type": "stream",
     "text": [
      "0\n",
      "1\n",
      "1\n",
      "2\n",
      "3\n",
      "5\n",
      "8\n",
      "13\n",
      "21\n",
      "34\n"
     ]
    }
   ],
   "source": [
    "def fibo(n):\n",
    "    if n<=1:\n",
    "        return n\n",
    "    else:\n",
    "        return fibo(n-1)+fibo(n-2)\n",
    "    \n",
    "n=int(input(\"Enter the value of number upto which you want the fibonacci series.\"))\n",
    "if n <= 0:\n",
    "    print(\"Please enter the valid positive value.\")\n",
    "else:\n",
    "    for i in range(n):\n",
    "        print(fibo(i))\n"
   ]
  },
  {
   "cell_type": "code",
   "execution_count": 1,
   "metadata": {},
   "outputs": [
    {
     "name": "stdout",
     "output_type": "stream",
     "text": [
      "0\n",
      "1\n",
      "1\n",
      "2\n",
      "3\n",
      "5\n",
      "8\n",
      "13\n"
     ]
    }
   ],
   "source": [
    "def fibonacci(n):\n",
    "    a,b=0,1\n",
    "    print(a)\n",
    "    while (b<n):\n",
    "        print(b)\n",
    "        c=a+b\n",
    "        a=b\n",
    "        b=c\n",
    "fibonacci(20)\n"
   ]
  },
  {
   "cell_type": "code",
   "execution_count": 3,
   "metadata": {},
   "outputs": [
    {
     "name": "stdout",
     "output_type": "stream",
     "text": [
      "The given number is even.\n"
     ]
    }
   ],
   "source": [
    "def checkOddEven(n):\n",
    "    if n%2 == 0:\n",
    "        print(\"The given number is even.\")\n",
    "    else:\n",
    "        print(\"The given number is odd\")\n",
    "\n",
    "n=int(input(\"Enter the value of integer which you want to check for even/odd:\"))\n",
    "checkOddEven(n)"
   ]
  },
  {
   "cell_type": "code",
   "execution_count": 7,
   "metadata": {},
   "outputs": [
    {
     "name": "stdout",
     "output_type": "stream",
     "text": [
      "The sorted array is:\n",
      "1\n",
      "2\n",
      "2\n",
      "3\n",
      "4\n",
      "7\n",
      "7\n",
      "8\n",
      "9\n",
      "11\n",
      "12\n",
      "13\n",
      "14\n",
      "15\n"
     ]
    }
   ],
   "source": [
    "#Program for the Bubble Sort Algorithm Implementation\n",
    "\n",
    "def bubbleSort(arr):\n",
    "    n=len(arr)\n",
    "    for i in range(n):\n",
    "        for j in range(0,n-i-1):\n",
    "            if arr[j] > arr[j+1]:\n",
    "                arr[j],arr[j+1]=arr[j+1],arr[j]\n",
    "arr=[3,8,7,1,2,9,2,4,7,15,13,14,12,11]\n",
    "bubbleSort(arr)\n",
    "print(\"The sorted array is:\")\n",
    "for i in range(len(arr)):\n",
    "    print(arr[i])"
   ]
  },
  {
   "cell_type": "code",
   "execution_count": 1,
   "metadata": {},
   "outputs": [
    {
     "name": "stdout",
     "output_type": "stream",
     "text": [
      "Sorted Array in Ascending Order is :\n",
      "[1, 2, 3, 4, 5, 6, 7, 11, 12, 13, 15]\n"
     ]
    }
   ],
   "source": [
    "#Program for the Implementation of Selection Sort Algorithm Implementation in Python\n",
    "def selectionSort(array, size):\n",
    "    \n",
    "    for s in range(size):\n",
    "        min_idx = s\n",
    "        \n",
    "        for i in range(s + 1, size):\n",
    "            \n",
    "            # For sorting in descending order\n",
    "            # for minimum element in each loop\n",
    "            if array[i] < array[min_idx]:\n",
    "                min_idx = i\n",
    "\n",
    "        # Arranging min at the correct position\n",
    "        (array[s], array[min_idx]) = (array[min_idx], array[s])\n",
    "\n",
    "# Driver code\n",
    "data = [ 7, 2, 1, 6,3,5,4,15,13,12,11 ]\n",
    "size = len(data)\n",
    "selectionSort(data, size)\n",
    "\n",
    "print('Sorted Array in Ascending Order is :')\n",
    "print(data)"
   ]
  },
  {
   "cell_type": "code",
   "execution_count": 3,
   "metadata": {},
   "outputs": [
    {
     "name": "stdout",
     "output_type": "stream",
     "text": [
      "Yes! The given String is Palindrome.\n"
     ]
    }
   ],
   "source": [
    "#PALINDROME NUMBER/ PALINDROME STRING\n",
    "#USING THE SPLIT METHOD\n",
    "\n",
    "def palindrome(s):\n",
    "    temp=s[::-1]\n",
    "    if s == temp:\n",
    "        print(\"Yes! The given String is Palindrome.\")\n",
    "    else:\n",
    "        print(\"The given string is not palindrome.\")\n",
    "\n",
    "s=\"anitina\"\n",
    "palindrome(s)"
   ]
  },
  {
   "cell_type": "code",
   "execution_count": 7,
   "metadata": {},
   "outputs": [
    {
     "data": {
      "text/plain": [
       "False"
      ]
     },
     "execution_count": 7,
     "metadata": {},
     "output_type": "execute_result"
    }
   ],
   "source": [
    "#PALINDROME STRING\n",
    "#BY USING INDEXING / USING FOR LOOP\n",
    "def palindrome2(s):\n",
    "    n=len(s)\n",
    "    for i in range(n):\n",
    "        if s[i] != s[n-i-1]:\n",
    "            return False\n",
    "    return True\n",
    "s=\"anitiwna\"\n",
    "palindrome2(s)"
   ]
  },
  {
   "cell_type": "code",
   "execution_count": 11,
   "metadata": {},
   "outputs": [
    {
     "data": {
      "text/plain": [
       "False"
      ]
     },
     "execution_count": 11,
     "metadata": {},
     "output_type": "execute_result"
    }
   ],
   "source": [
    "#PALINDROME STRING\n",
    "#BY USING INBUILT FUNCTION : REVERSED AND JOIN\n",
    "def palindrome3(s):\n",
    "    reverse_s=reversed(s)\n",
    "    #print(reverse_s)\n",
    "    #for i in reverse_s:\n",
    "        #print(i)\n",
    "    temp=''.join(reversed(s))\n",
    "    #print(temp)\n",
    "    if s == temp:\n",
    "        return True\n",
    "    else:\n",
    "        return False\n",
    "\n",
    "s=\"anitinaa\"\n",
    "palindrome3(s)"
   ]
  },
  {
   "cell_type": "code",
   "execution_count": 13,
   "metadata": {},
   "outputs": [
    {
     "data": {
      "text/plain": [
       "True"
      ]
     },
     "execution_count": 13,
     "metadata": {},
     "output_type": "execute_result"
    }
   ],
   "source": [
    "#PALINDROME STRING\n",
    "#WHETHER STRING IS PALINDROME OR NOT?\n",
    "#BY USING WHILE LOOP\n",
    "\n",
    "def palindrome4(s):\n",
    "    n=len(s)\n",
    "    first=0\n",
    "    last=n-1\n",
    "    while(first<last):\n",
    "        if s[first] == s[last]:\n",
    "            first += 1\n",
    "            last -= 1\n",
    "        else:\n",
    "            return False\n",
    "    return True\n",
    "\n",
    "s=\"anitina\"\n",
    "palindrome4(s)\n"
   ]
  },
  {
   "cell_type": "code",
   "execution_count": 16,
   "metadata": {},
   "outputs": [
    {
     "data": {
      "text/plain": [
       "False"
      ]
     },
     "execution_count": 16,
     "metadata": {},
     "output_type": "execute_result"
    }
   ],
   "source": [
    "#PALINDROME NUMBER\n",
    "#WHETHER THE GIVEN NUMBER IS PALINDROME OR NOT\n",
    "#BY USING THE SPLIT METHOD - CONVERTING THE NUMBER TO STRING\n",
    "\n",
    "def palindrome5(n):\n",
    "    s = str(n)\n",
    "    temp = s[::-1]\n",
    "    if s == temp:\n",
    "        return True\n",
    "    else:\n",
    "        return False\n",
    "    \n",
    "n=11344311\n",
    "palindrome5(n)\n",
    "\n",
    "n2=7890023432\n",
    "palindrome5(n2)"
   ]
  },
  {
   "cell_type": "code",
   "execution_count": 20,
   "metadata": {},
   "outputs": [
    {
     "data": {
      "text/plain": [
       "False"
      ]
     },
     "execution_count": 20,
     "metadata": {},
     "output_type": "execute_result"
    }
   ],
   "source": [
    "#PALINDROME NUMBER\n",
    "#WHETHER THE GIVEN NUMBER IS PALINDROME OR NOT\n",
    "#BY USING THE WHILE LOOP\n",
    "\n",
    "def palindrome6(n):\n",
    "    temp = n\n",
    "    rev_n=0\n",
    "    while (temp>0):\n",
    "        digit=temp%10\n",
    "        #print(digit)\n",
    "        rev_n=rev_n*10+digit\n",
    "        temp=temp//10\n",
    "    if n == rev_n:\n",
    "        return True\n",
    "    else:\n",
    "        return False\n",
    "    \n",
    "n=1132231145\n",
    "palindrome6(n)"
   ]
  },
  {
   "cell_type": "code",
   "execution_count": 25,
   "metadata": {},
   "outputs": [
    {
     "name": "stdout",
     "output_type": "stream",
     "text": [
      "0\n",
      "1\n",
      "1\n",
      "2\n",
      "3\n",
      "5\n",
      "8\n",
      "13\n",
      "21\n"
     ]
    }
   ],
   "source": [
    "#Fibonaci Series\n",
    "#Find the Fibonacci Series from 0 to nth number using the While Loop\n",
    "# 0 1 1 2 3 5 8 13 21 .............!\n",
    "#By using While Loop\n",
    "\n",
    "def fibonacci(n):\n",
    "    a,b=0,1\n",
    "    print(a)\n",
    "    while(b<n):\n",
    "        print(b)\n",
    "        c=a+b\n",
    "        a=b\n",
    "        b=c\n",
    "\n",
    "fibonacci(30)"
   ]
  },
  {
   "cell_type": "code",
   "execution_count": 27,
   "metadata": {},
   "outputs": [
    {
     "name": "stdout",
     "output_type": "stream",
     "text": [
      "0\n",
      "1\n",
      "1\n",
      "2\n",
      "3\n",
      "5\n",
      "8\n",
      "13\n",
      "21\n"
     ]
    }
   ],
   "source": [
    "#Fibonaci Series\n",
    "#By using While Loop and without using 3rd Variable\n",
    "\n",
    "def fibonacci(n):\n",
    "    a,b=0,1\n",
    "    print(a)\n",
    "    while(b<n):\n",
    "        print(b)\n",
    "        a,b=b,a+b\n",
    "fibonacci(30)"
   ]
  },
  {
   "cell_type": "code",
   "execution_count": 31,
   "metadata": {},
   "outputs": [
    {
     "name": "stdout",
     "output_type": "stream",
     "text": [
      "0\n",
      "1\n",
      "1\n",
      "2\n",
      "3\n",
      "5\n",
      "8\n",
      "13\n",
      "21\n",
      "34\n",
      "55\n",
      "89\n",
      "144\n",
      "233\n",
      "377\n",
      "610\n",
      "987\n",
      "1597\n",
      "2584\n",
      "4181\n",
      "6765\n",
      "10946\n",
      "17711\n",
      "28657\n",
      "46368\n",
      "75025\n",
      "121393\n",
      "196418\n",
      "317811\n",
      "514229\n",
      "832040\n",
      "1346269\n",
      "2178309\n",
      "3524578\n",
      "5702887\n",
      "9227465\n",
      "14930352\n",
      "24157817\n",
      "39088169\n",
      "63245986\n",
      "102334155\n",
      "165580141\n",
      "267914296\n",
      "433494437\n",
      "701408733\n",
      "1134903170\n",
      "1836311903\n",
      "2971215073\n",
      "4807526976\n",
      "7778742049\n"
     ]
    }
   ],
   "source": [
    "#Fibonaci Series\n",
    "#By using For Loop\n",
    "\n",
    "def fibonacci2(n):\n",
    "    a,b=0,1\n",
    "    if n == 1:\n",
    "        print(a)\n",
    "    else:\n",
    "        print(a)\n",
    "        print(b)\n",
    "        for i in range(2,n):\n",
    "            c = a+b\n",
    "            a = b\n",
    "            b = c\n",
    "            print(c)\n",
    "\n",
    "fibonacci2(50)"
   ]
  },
  {
   "cell_type": "code",
   "execution_count": 37,
   "metadata": {},
   "outputs": [
    {
     "name": "stdout",
     "output_type": "stream",
     "text": [
      "0\n",
      "1\n",
      "1\n",
      "2\n",
      "3\n",
      "5\n",
      "8\n",
      "13\n",
      "21\n"
     ]
    }
   ],
   "source": [
    "#FIBINACCI SERIES\n",
    "#BY USING RECURSION\n",
    "\n",
    "def fibonacci3(n):\n",
    "    if n <= 1:\n",
    "        return n\n",
    "    else:\n",
    "        return (fibonacci3(n-1) + fibonacci3(n-2))\n",
    "    \n",
    "n=int(input(\"Enter the value of n upto which your want the Fibonacci Series to print.\"))\n",
    "if n <= 0:\n",
    "    print(\"Please enter the positive value.\")\n",
    "else:\n",
    "    for i in range(n):\n",
    "        print(fibonacci3(i))"
   ]
  },
  {
   "cell_type": "code",
   "execution_count": 45,
   "metadata": {},
   "outputs": [
    {
     "name": "stdout",
     "output_type": "stream",
     "text": [
      "a2b2c3d5e2f5i5j5\n"
     ]
    }
   ],
   "source": [
    "#COMPRESS STRING\n",
    "# aabbccddeeee = a2b2c2d2e4\n",
    "\n",
    "#Input - aabbccaaaafffeiii\n",
    "#Output - a2b2c2a4f3e1i3\n",
    "\n",
    "def compress(s):\n",
    "    n = len(s)\n",
    "    new_s=''\n",
    "    count=1\n",
    "    for i in range(n-1):\n",
    "        if s[i]==s[i+1]:\n",
    "            count += 1\n",
    "        else:\n",
    "            new_s = new_s + s[i] + str(count)\n",
    "            #new_s += (s[i] + str(count))\n",
    "            count=1\n",
    "    new_s = new_s + s[n-1] + str(count)\n",
    "    return new_s\n",
    "\n",
    "s=\"aabbcccdddddeefffffiiiiijjjjj\"\n",
    "print(compress(s))"
   ]
  },
  {
   "cell_type": "code",
   "execution_count": 46,
   "metadata": {},
   "outputs": [
    {
     "name": "stdout",
     "output_type": "stream",
     "text": [
      "a2b2c3d5e2f5i5j5\n"
     ]
    }
   ],
   "source": [
    "#COMPRESS STRING BY USING THE WHILE LOOP\n",
    "\n",
    "def compress2(s):\n",
    "    n = len(s)\n",
    "    i = 0\n",
    "    new_s = ''\n",
    "    while(i<n-1):\n",
    "        count = 1\n",
    "        while (i < n-1 and s[i]==s[i+1]):\n",
    "            count += 1\n",
    "            i+=1\n",
    "        i+=1\n",
    "        new_s = new_s+s[i-1]+str(count)\n",
    "    return new_s\n",
    "\n",
    "s=\"aabbcccdddddeefffffiiiiijjjjj\"\n",
    "print(compress(s))\n"
   ]
  },
  {
   "cell_type": "code",
   "execution_count": 48,
   "metadata": {},
   "outputs": [
    {
     "name": "stdout",
     "output_type": "stream",
     "text": [
      "1\n",
      "2\n",
      "Fizz\n",
      "4\n",
      "Buzz\n",
      "Fizz\n",
      "7\n",
      "8\n",
      "Fizz\n",
      "Buzz\n",
      "11\n",
      "Fizz\n",
      "13\n",
      "14\n",
      "FizzBuzz\n",
      "16\n",
      "17\n",
      "Fizz\n",
      "19\n",
      "Buzz\n",
      "Fizz\n",
      "22\n",
      "23\n",
      "Fizz\n",
      "Buzz\n",
      "26\n",
      "Fizz\n",
      "28\n",
      "29\n",
      "FizzBuzz\n"
     ]
    }
   ],
   "source": [
    "#FIZZBUZZ\n",
    "#FizzBuzz Problem\n",
    "#If Number is divisible by 3 - Print Fizz\n",
    "#If Number is divisible by 5 - Print Buzz\n",
    "#If Number is divisible by 15 - Print FizzBuzz\n",
    "\n",
    "#By using the For Loop\n",
    "\n",
    "def FizzBuzz(n):\n",
    "    for i in range(1,n+1):\n",
    "        if i%3 == 0 and i%5 == 0:\n",
    "            print(\"FizzBuzz\")\n",
    "        elif i%3 == 0:\n",
    "            print(\"Fizz\")\n",
    "        elif i%5 == 0:\n",
    "            print(\"Buzz\")\n",
    "        else:\n",
    "            print(i)\n",
    "\n",
    "FizzBuzz(30)"
   ]
  },
  {
   "cell_type": "code",
   "execution_count": 51,
   "metadata": {},
   "outputs": [
    {
     "name": "stdout",
     "output_type": "stream",
     "text": [
      "1\n",
      "2\n",
      "Fizz\n",
      "4\n",
      "Buzz\n",
      "Fizz\n",
      "7\n",
      "8\n",
      "Fizz\n",
      "Buzz\n",
      "11\n",
      "Fizz\n",
      "13\n",
      "14\n",
      "FizzBuzz\n"
     ]
    }
   ],
   "source": [
    "#FizzBuzz Problem by using the Dictionary\n",
    "\n",
    "def fizzbuzz2(n):\n",
    "    d={3:'Fizz', 5:'Buzz'}\n",
    "    for i in range(1,n+1):\n",
    "        result=''\n",
    "        for k, v in d.items():\n",
    "            if i%k == 0:\n",
    "                result+=v\n",
    "        if not result:\n",
    "            result = i\n",
    "        print(result)\n",
    "\n",
    "fizzbuzz2(15)\n"
   ]
  },
  {
   "cell_type": "code",
   "execution_count": 55,
   "metadata": {},
   "outputs": [
    {
     "name": "stdout",
     "output_type": "stream",
     "text": [
      "wwhghjkehiygwwuedddddddddddddddddddddwwwwwwwwwwwwwwwwwiooooeeeddcswszxxxxxxxxxxxxxxxxxxxxx\n",
      "{'w': 22, 'h': 3, 'g': 2, 'j': 1, 'k': 1, 'e': 5, 'i': 2, 'y': 1, 'u': 1, 'd': 23, 'o': 4, 'c': 1, 's': 2, 'z': 1, 'x': 21}\n",
      "j\n"
     ]
    }
   ],
   "source": [
    "#CHARACTER OCCURANCE\n",
    "#1.LEAST REPEATING CHARACTER IN A STRING\n",
    "#2.COUNT OF ANY PARTICULAR ELEMENT\n",
    "#3.COUNT OF ALL ELEMENTS\n",
    "\n",
    "\n",
    "#CHARACTER OCCURANCE\n",
    "#1.LEAST REPEATING CHARACTER IN A STRING\n",
    "#Using Dict\n",
    "\n",
    "def least_char_occurance(s):\n",
    "    print(s)\n",
    "    ch={}\n",
    "    for i in s:\n",
    "        if i in ch:\n",
    "            ch[i] = ch[i]+1\n",
    "        else:\n",
    "            ch[i] = 1\n",
    "    print(ch) #To Print the number of occurance of all characters in the string\n",
    "    result=min(ch, key = ch.get)\n",
    "    print(result)\n",
    "\n",
    "s=\"wwhghjkehiygwwuedddddddddddddddddddddwwwwwwwwwwwwwwwwwiooooeeeddcswszxxxxxxxxxxxxxxxxxxxxx\"\n",
    "least_char_occurance(s)\n"
   ]
  },
  {
   "cell_type": "code",
   "execution_count": 57,
   "metadata": {},
   "outputs": [
    {
     "name": "stdout",
     "output_type": "stream",
     "text": [
      "k\n"
     ]
    }
   ],
   "source": [
    "#CHARACTER OCCURANCE\n",
    "#1.LEAST REPEATING CHARACTER IN A STRING\n",
    "#USING INBUILT FUNCTIONS COUNTER\n",
    "from collections import Counter\n",
    "s=\"oooppppqqqwwweeeekmnjhduuduuuuuddnnnnmmmm\"\n",
    "ch=Counter(s)\n",
    "result=min(ch, key=ch.get)\n",
    "print(result)"
   ]
  },
  {
   "cell_type": "code",
   "execution_count": 60,
   "metadata": {},
   "outputs": [
    {
     "name": "stdout",
     "output_type": "stream",
     "text": [
      "3\n",
      "7\n"
     ]
    }
   ],
   "source": [
    "#CHARACTER OCCURANCE\n",
    "#2.COUNT OF ANY PARTICULAR ELEMENT\n",
    "\n",
    "# BY USING THE COUNT FUNCTION (for string, number, and list)\n",
    "s=\"oooppppqqqwwweeeekmnjhduuduuuuuddnnnnmmmm\"\n",
    "print(s.count('w'))\n",
    "\n",
    "l=[1,3,2,3,2,2,2,2,2,2,3,3,4,5,6,6,6,7,7,8,8,]\n",
    "print(l.count(2))"
   ]
  },
  {
   "cell_type": "code",
   "execution_count": 64,
   "metadata": {},
   "outputs": [
    {
     "name": "stdout",
     "output_type": "stream",
     "text": [
      "{'q': 1, 'w': 1, 'e': 10, 'r': 2, 'g': 12, 'f': 11, 'd': 8}\n",
      "0\n"
     ]
    }
   ],
   "source": [
    "#CHARACTER OCCURANCE\n",
    "#2.COUNT OF ANY PARTICULAR ELEMENT\n",
    "#WITHOUT USING ANY INBUILT FUNCTION I.E. COUNT / USING DICT\n",
    "def count_char_occurance(s, search_ch):\n",
    "    ch = {}\n",
    "    for i in s:\n",
    "        if i in ch:\n",
    "            ch[i] = ch[i]+1\n",
    "        else:\n",
    "            ch[i]=1\n",
    "    print(ch)\n",
    "    try:\n",
    "        print(ch[search_ch])\n",
    "    except:\n",
    "        print(0)\n",
    "s = \"qwerggggggggggggrfffffffffffedeeeeeeeeddddddd\"\n",
    "count_char_occurance(s,'a')"
   ]
  },
  {
   "cell_type": "code",
   "execution_count": 66,
   "metadata": {},
   "outputs": [
    {
     "name": "stdout",
     "output_type": "stream",
     "text": [
      "qwerggggggggggggrfffffffffffedeeeeeeeeddddddd\n",
      "{'q': 1, 'w': 1, 'e': 10, 'r': 2, 'g': 12, 'f': 11, 'd': 8}\n"
     ]
    }
   ],
   "source": [
    "#CHARACTER OCCURANCE\n",
    "#3.COUNT OF ALL ELEMENTS\n",
    "\n",
    "def count_char_occurance(s):\n",
    "    print(s)\n",
    "    ch={}\n",
    "    for i in s:\n",
    "        if i in ch:\n",
    "            ch[i] = ch[i]+1\n",
    "        else:\n",
    "            ch[i] = 1\n",
    "    print(ch) \n",
    "\n",
    "s = \"qwerggggggggggggrfffffffffffedeeeeeeeeddddddd\"\n",
    "count_char_occurance(s)"
   ]
  },
  {
   "cell_type": "code",
   "execution_count": 69,
   "metadata": {},
   "outputs": [
    {
     "name": "stdout",
     "output_type": "stream",
     "text": [
      "Yes! The given number is a Prime Number.\n"
     ]
    }
   ],
   "source": [
    "#PRIME NUMBER\n",
    "#1. To check if the given number is a Prime Number or not.\n",
    "#Using Flag\n",
    "\n",
    "def prime_number(n):\n",
    "    flag=False\n",
    "    if n > 1:\n",
    "        for i in range(2,n):\n",
    "            if n%i == 0:\n",
    "                flag = True\n",
    "                break\n",
    "    if flag:\n",
    "        return \"No! The given number is not Prime Number.\"\n",
    "    else:\n",
    "        return \"Yes! The given number is a Prime Number.\"\n",
    "\n",
    "print(prime_number(5))"
   ]
  },
  {
   "cell_type": "code",
   "execution_count": 72,
   "metadata": {},
   "outputs": [
    {
     "name": "stdout",
     "output_type": "stream",
     "text": [
      "No! The given number is not Prime Number.\n"
     ]
    }
   ],
   "source": [
    "#PRIME NUMBER\n",
    "#1. To check if the given number is a Prime Number or not.\n",
    "#Using Flag\n",
    "#More Optimized Way\n",
    "\n",
    "def prime_number(n):\n",
    "    flag=False\n",
    "    if n > 1:\n",
    "        for i in range(2,(n//2 + 1)):\n",
    "            if n%i == 0:\n",
    "                flag = True\n",
    "                break\n",
    "    if flag:\n",
    "        return \"No! The given number is not Prime Number.\"\n",
    "    else:\n",
    "        return \"Yes! The given number is a Prime Number.\"\n",
    "\n",
    "print(prime_number(4))"
   ]
  },
  {
   "cell_type": "code",
   "execution_count": 74,
   "metadata": {},
   "outputs": [
    {
     "name": "stdout",
     "output_type": "stream",
     "text": [
      "Yes, it is a Prime Number.\n"
     ]
    }
   ],
   "source": [
    "#PRIME NUMBER\n",
    "#Using For-Else \n",
    "\n",
    "def prime_number2(n):\n",
    "    if n>1:\n",
    "        for i in range(2,n//2+1):\n",
    "            if n%i==0:\n",
    "                print(\"No, it is not a Prime Number.\")\n",
    "                break\n",
    "        else:\n",
    "            print(\"Yes, it is a Prime Number.\")\n",
    "    else:\n",
    "        print(\"No,it is not a Prime Number.\")\n",
    "n=5\n",
    "prime_number2(n)"
   ]
  },
  {
   "cell_type": "code",
   "execution_count": 76,
   "metadata": {},
   "outputs": [
    {
     "name": "stdout",
     "output_type": "stream",
     "text": [
      "13\n",
      "17\n",
      "19\n",
      "23\n",
      "29\n",
      "31\n",
      "37\n",
      "41\n",
      "43\n",
      "47\n",
      "53\n",
      "59\n",
      "61\n",
      "67\n",
      "71\n",
      "73\n",
      "79\n",
      "83\n",
      "89\n",
      "97\n"
     ]
    }
   ],
   "source": [
    "#2. Display all the Prime Numbers within an Interval\n",
    "#By using the For-Else - [Best Approach]\n",
    "def prime_number3(start, end):\n",
    "    for n in range(start, end):\n",
    "        if n>1:\n",
    "            for i in range(2,n//2+1):\n",
    "                if n%i==0:\n",
    "                    break\n",
    "            else:\n",
    "                print(n)\n",
    "prime_number3(13,100)"
   ]
  },
  {
   "cell_type": "code",
   "execution_count": 85,
   "metadata": {},
   "outputs": [
    {
     "name": "stdout",
     "output_type": "stream",
     "text": [
      "tHIS.iS.a.gOOD.mORNING\n"
     ]
    }
   ],
   "source": [
    "#MODIFY STRING FORMAT\n",
    "#Input = I_Am_Coder\n",
    "#Output = i.aM.cODER\n",
    "\n",
    "#Input = This_Is_A_Good_Morning\n",
    "#Output = tHIS.iS.a.gOOD.mORNING\n",
    "\n",
    "#CHANGES\n",
    "# _ = .\n",
    "# first_upper_letter = first_lower_letter\n",
    "# remaining_lower_letterr = remaining_upper_letter\n",
    "\n",
    "# By Using List\n",
    "def string_format(s):\n",
    "    l=[]\n",
    "    temp = s.split('_')\n",
    "    for i in temp:\n",
    "        #l[0].lower()+i[1:].upper()\n",
    "        l.append(i[0].lower()+i[1:].upper())\n",
    "    s='.'.join(l)\n",
    "    print(s)\n",
    "\n",
    "s = \"This_Is_A_Good_Morning\"\n",
    "string_format(s)"
   ]
  },
  {
   "cell_type": "code",
   "execution_count": 88,
   "metadata": {},
   "outputs": [
    {
     "name": "stdout",
     "output_type": "stream",
     "text": [
      "i.aM.cODER\n"
     ]
    }
   ],
   "source": [
    "#MODIFY STRING FORMAT\n",
    "#Input = I_Am_Coder\n",
    "#Output = i.aM.cODER\n",
    "\n",
    "#By Using the String.\n",
    "def string_format1(s):\n",
    "    new_s=''\n",
    "    temp=s.split('_')\n",
    "    for i in temp:\n",
    "        new_s=new_s+i[0].lower()+i[1:].upper()+'.'\n",
    "    new_s=new_s[:-1]\n",
    "    print(new_s)\n",
    "s=\"I_Am_Coder\"\n",
    "string_format1(s)"
   ]
  },
  {
   "cell_type": "code",
   "execution_count": 90,
   "metadata": {},
   "outputs": [
    {
     "name": "stdout",
     "output_type": "stream",
     "text": [
      "321\n"
     ]
    }
   ],
   "source": [
    "#SECOND LARGEST NUMBER\n",
    "#TO FIND THE SECOND HIGHEST NUMBER FROM A PARTICULAR LIST\n",
    "# BY USING FOR LOOP\n",
    "# BY USING REVERSE SORT\n",
    "# BY USING SET AND MAX()\n",
    "#Assuming the list will be more than 2 numbers\n",
    "\n",
    "#TO FIND THE SECOND LARGEST NUMBER\n",
    "#BY USING FOR LOOP\n",
    "\n",
    "def second_largest_number(l):\n",
    "    if l[0]>l[1]:\n",
    "        first = l[0]\n",
    "        second = l[1]\n",
    "    else:\n",
    "        first = l[1]\n",
    "        second = l[0]\n",
    "    for i in range(2, len(l)):\n",
    "        if l[i]>first:\n",
    "            second = first\n",
    "            first = l[i]\n",
    "        elif l[i]>second and first != l[i]:\n",
    "            second = l[i]\n",
    "    return second\n",
    "\n",
    "l = [22,33,212,11,22,1,2,123,321,56,78,33,1,890]\n",
    "print(second_largest_number(l))"
   ]
  },
  {
   "cell_type": "code",
   "execution_count": 94,
   "metadata": {},
   "outputs": [
    {
     "name": "stdout",
     "output_type": "stream",
     "text": [
      "321\n"
     ]
    }
   ],
   "source": [
    "#SECOND LARGEST NUMBER\n",
    "#TO FIND THE SECOND HIGHEST NUMBER FROM A PARTICULAR LIST\n",
    "# BY USING REVERSE SORT\n",
    "\n",
    "def second_largest_number2(l):\n",
    "    l.sort(reverse=True)\n",
    "    print(l[1])\n",
    "    l.sort()\n",
    "    print(l[-2])\n",
    "\n",
    "l = [22,33,212,11,22,1,2,123,321,56,78,33,1,890]\n",
    "print(second_largest_number(l))"
   ]
  },
  {
   "cell_type": "code",
   "execution_count": 101,
   "metadata": {},
   "outputs": [
    {
     "name": "stdout",
     "output_type": "stream",
     "text": [
      "[890, 321, 212, 123, 78, 56, 33, 33, 22, 22, 11, 2, 1, 1]\n",
      "321\n",
      "None\n"
     ]
    }
   ],
   "source": [
    "#SECOND LARGEST NUMBER\n",
    "#TO FIND THE SECOND HIGHEST NUMBER FROM A PARTICULAR LIST\n",
    "# BY USING REVERSE SORT\n",
    "#Find Nth Highest\n",
    "\n",
    "def second_largest_number3(l,n):\n",
    "    l.sort(reverse=True)\n",
    "    print(l)\n",
    "    print(l[n-1])\n",
    "\n",
    "l = [22,33,212,11,22,1,2,123,321,56,78,33,1,890]\n",
    "print(second_largest_number3(l,2))"
   ]
  },
  {
   "cell_type": "code",
   "execution_count": 104,
   "metadata": {},
   "outputs": [
    {
     "name": "stdout",
     "output_type": "stream",
     "text": [
      "{33, 65, 11, 76, 80, 33333, 22, 55, 90}\n",
      "{33, 65, 11, 76, 80, 22, 55, 90}\n",
      "90\n"
     ]
    }
   ],
   "source": [
    "#SECOND LARGEST NUMBER\n",
    "#TO FIND THE SECOND HIGHEST NUMBER FROM A PARTICULAR LIST\n",
    "# BY USING SET AND MAX()\n",
    "\n",
    "l=[90,80,76,11,22,33,55,33333,65]\n",
    "new_l=set(l)\n",
    "print(new_l)\n",
    "new_l.remove(max(new_l))\n",
    "print(new_l)\n",
    "print(max(new_l))"
   ]
  },
  {
   "cell_type": "code",
   "execution_count": 107,
   "metadata": {},
   "outputs": [
    {
     "name": "stdout",
     "output_type": "stream",
     "text": [
      "Yes! The given number is an Armstrong Number.\n"
     ]
    }
   ],
   "source": [
    "#ARMSTRONG NUMBER\n",
    "# A NUMBER THAT IS EQUAL TO THE SUM OF CUBES OF ITS DIGITS\n",
    "# 153 = 1*1*1 + 5*5*5 + 3*3*3 = 1+125+27 = 153\n",
    "\n",
    "def armstrong(n):\n",
    "    sum = 0\n",
    "    temp = n\n",
    "\n",
    "    while temp>0:\n",
    "        digit = temp%10\n",
    "        sum = sum+(digit**3)\n",
    "        temp = temp//10\n",
    "    if n == sum:\n",
    "        print(\"Yes! The given number is an Armstrong Number.\")\n",
    "    else:\n",
    "        print(\"No! The given number is not an Armstrong Number.\") \n",
    "\n",
    "n = 371\n",
    "armstrong(n)"
   ]
  },
  {
   "cell_type": "code",
   "execution_count": 109,
   "metadata": {},
   "outputs": [
    {
     "name": "stdout",
     "output_type": "stream",
     "text": [
      "0\n",
      "1\n",
      "153\n"
     ]
    }
   ],
   "source": [
    "#ARMSTRONG NUMBER\n",
    "#PRINT LIST OF ARMSTRONG NUMBER FOR A PARTICULAR INTERVAL\n",
    "\n",
    "def armstrong(start, end):\n",
    "    for n in range(start, end):\n",
    "        sum=0\n",
    "        temp=n\n",
    "        while temp > 0:\n",
    "            digit = temp%10\n",
    "            sum = sum+(digit**3)\n",
    "            temp = temp//10\n",
    "\n",
    "        if n==sum:\n",
    "            print(n)\n",
    "armstrong(0,200)"
   ]
  },
  {
   "cell_type": "code",
   "execution_count": 111,
   "metadata": {},
   "outputs": [
    {
     "data": {
      "text/plain": [
       "28"
      ]
     },
     "execution_count": 111,
     "metadata": {},
     "output_type": "execute_result"
    }
   ],
   "source": [
    "#SUM OF THE DIGIT\n",
    "#PROGRAM TO WRITE THE SUM OF THE DIGIT OF A NUMBER\n",
    "def sum_of_digit(n):\n",
    "    sum=0\n",
    "    temp=n\n",
    "    if n>9:\n",
    "        while temp>0:\n",
    "            digit = temp%10\n",
    "            sum = sum+digit\n",
    "            temp = temp//10\n",
    "    else:\n",
    "        sum=n\n",
    "    return sum\n",
    "\n",
    "n=1234567\n",
    "sum_of_digit(n)"
   ]
  },
  {
   "cell_type": "code",
   "execution_count": 113,
   "metadata": {},
   "outputs": [
    {
     "data": {
      "text/plain": [
       "40320"
      ]
     },
     "execution_count": 113,
     "metadata": {},
     "output_type": "execute_result"
    }
   ],
   "source": [
    "#FACTORIAL NUMBER\n",
    "#FOR LOOP\n",
    "#2nd CASE - 145! = 1! + 4! + 5!= 1+24+120 = 145\n",
    "#PRINT NUMBER FROM 1 TO 1 LAKH WHERE THE \n",
    "#\"SUMMATION\" OF THE \"FACTORIAL OF EACH OF THE DIGITS\"\n",
    "#EQUALS TO THE \"ACTUAL NUMBER\"\n",
    "#FOR EXAMPLE\n",
    "#145! = 1! + 4! + 5!= 1+24+120 = 145\n",
    "\n",
    "\n",
    "def factorial(n):\n",
    "    facto=1\n",
    "    for i in range(1, n+1):\n",
    "        facto = facto*i #facto*=i\n",
    "    return facto\n",
    "n=8\n",
    "factorial(n)"
   ]
  },
  {
   "cell_type": "code",
   "execution_count": 115,
   "metadata": {},
   "outputs": [
    {
     "name": "stdout",
     "output_type": "stream",
     "text": [
      "Yes\n"
     ]
    }
   ],
   "source": [
    "#FACTORIAL NUMBER\n",
    "#FOR LOOP\n",
    "#2nd CASE - 145! = 1! + 4! + 5!= 1+24+120 = 145\n",
    "#PRINT NUMBER FROM 1 TO 1 LAKH WHERE THE \n",
    "#\"SUMMATION\" OF THE \"FACTORIAL OF EACH OF THE DIGITS\"\n",
    "#EQUALS TO THE \"ACTUAL NUMBER\"\n",
    "#FOR EXAMPLE\n",
    "#145! = 1! + 4! + 5!= 1+24+120 = 145\n",
    "\n",
    "#WHETHER NUMBER FOLLOWS THE CASE\n",
    "def sum_of_factor(n):\n",
    "    temp=n\n",
    "    sum=0\n",
    "    while(temp>0):\n",
    "        digit=temp%10\n",
    "        temp=temp//10\n",
    "        facto = factorial(digit)\n",
    "        sum=sum+facto\n",
    "    if sum == n:\n",
    "        print('Yes')\n",
    "    else:\n",
    "        print('No')\n",
    "\n",
    "sum_of_factor(145)"
   ]
  },
  {
   "cell_type": "code",
   "execution_count": 116,
   "metadata": {},
   "outputs": [
    {
     "name": "stdout",
     "output_type": "stream",
     "text": [
      "List of the numbers that follows the case within interval\n",
      "1\n",
      "2\n",
      "145\n",
      "40585\n"
     ]
    }
   ],
   "source": [
    "#Print the list of the numbers that follows the case within interval\n",
    "print(\"List of the numbers that follows the case within interval\")\n",
    "def sum_of_factor(start, end):\n",
    "    for n in range(start,end):\n",
    "        temp=n\n",
    "        sum=0\n",
    "        while(temp>0):\n",
    "            digit = temp%10\n",
    "            temp=temp//10\n",
    "            facto=factorial(digit)\n",
    "            sum = sum+facto\n",
    "        if sum==n:\n",
    "            print(n)\n",
    "sum_of_factor(1,200000)"
   ]
  }
 ],
 "metadata": {
  "kernelspec": {
   "display_name": "Python 3",
   "language": "python",
   "name": "python3"
  },
  "language_info": {
   "codemirror_mode": {
    "name": "ipython",
    "version": 3
   },
   "file_extension": ".py",
   "mimetype": "text/x-python",
   "name": "python",
   "nbconvert_exporter": "python",
   "pygments_lexer": "ipython3",
   "version": "3.13.0"
  }
 },
 "nbformat": 4,
 "nbformat_minor": 2
}
